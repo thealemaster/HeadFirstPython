{
 "cells": [
  {
   "cell_type": "code",
   "execution_count": 36,
   "metadata": {},
   "outputs": [
    {
     "name": "stdout",
     "output_type": "stream",
     "text": [
      "8657.5\n"
     ]
    }
   ],
   "source": [
    "\n",
    "import statistics\n",
    "\n",
    "FN = \"Darius-13-100m-Fly.txt\"\n",
    "FOLDER = \"swimdata/\"\n",
    "\n",
    "with open (FOLDER + FN) as file:\n",
    "    lines = file.readlines()\n",
    "\n",
    "times = lines[0].strip().split (\",\")\n",
    "converts = []\n",
    "\n",
    "for t in times:\n",
    "   \n",
    "    # Extract the component parts: start weith the minutes value\n",
    "    minutes, rest = t.split (\":\")\n",
    "\n",
    "    # Extract the rest of the items\n",
    "    seconds, hundreths = rest.split (\".\")\n",
    "\n",
    "    # Convert the strings\n",
    "    converts.append((int(minutes) * 60 * 100) + (int(seconds) * 100) + int (hundreths))\n",
    "\n",
    "print (statistics.mean(converts))\n",
    "\n"
   ]
  }
 ],
 "metadata": {
  "kernelspec": {
   "display_name": "Python 3",
   "language": "python",
   "name": "python3"
  },
  "language_info": {
   "codemirror_mode": {
    "name": "ipython",
    "version": 3
   },
   "file_extension": ".py",
   "mimetype": "text/x-python",
   "name": "python",
   "nbconvert_exporter": "python",
   "pygments_lexer": "ipython3",
   "version": "3.9.6"
  },
  "orig_nbformat": 4
 },
 "nbformat": 4,
 "nbformat_minor": 2
}
