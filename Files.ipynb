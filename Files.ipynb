{
 "cells": [
  {
   "cell_type": "code",
   "execution_count": 22,
   "metadata": {},
   "outputs": [
    {
     "ename": "FileNotFoundError",
     "evalue": "[Errno 2] No such file or directory: 'Darius-13-100m-Fly.txt'",
     "output_type": "error",
     "traceback": [
      "\u001b[0;31m---------------------------------------------------------------------------\u001b[0m",
      "\u001b[0;31mFileNotFoundError\u001b[0m                         Traceback (most recent call last)",
      "\u001b[1;32m/Users/john/development/Learning/HeadFirstPython/Files.ipynb Cell 1\u001b[0m line \u001b[0;36m3\n\u001b[1;32m      <a href='vscode-notebook-cell:/Users/john/development/Learning/HeadFirstPython/Files.ipynb#W0sZmlsZQ%3D%3D?line=0'>1</a>\u001b[0m \u001b[39mimport\u001b[39;00m \u001b[39mswimclub\u001b[39;00m\n\u001b[0;32m----> <a href='vscode-notebook-cell:/Users/john/development/Learning/HeadFirstPython/Files.ipynb#W0sZmlsZQ%3D%3D?line=2'>3</a>\u001b[0m swimclub\u001b[39m.\u001b[39;49mread_swim_data (\u001b[39m\"\u001b[39;49m\u001b[39mDarius-13-100m-Fly.txt\u001b[39;49m\u001b[39m\"\u001b[39;49m)\n",
      "File \u001b[0;32m~/development/Learning/HeadFirstPython/swimclub.py:7\u001b[0m, in \u001b[0;36mread_swim_data\u001b[0;34m(filename)\u001b[0m\n\u001b[1;32m      5\u001b[0m \u001b[39mdef\u001b[39;00m \u001b[39mread_swim_data\u001b[39m (filename):\n\u001b[0;32m----> 7\u001b[0m     swimmer, age, distance, stroke \u001b[39m=\u001b[39m filename\u001b[39m.\u001b[39mremovesuffix(\u001b[39m\"\u001b[39m\u001b[39m.txt\u001b[39m\u001b[39m\"\u001b[39m)\u001b[39m.\u001b[39msplit (\u001b[39m\"\u001b[39m\u001b[39m-\u001b[39m\u001b[39m\"\u001b[39m)\n\u001b[1;32m      9\u001b[0m     \u001b[39mwith\u001b[39;00m \u001b[39mopen\u001b[39m (FOLDER \u001b[39m+\u001b[39m filename) \u001b[39mas\u001b[39;00m file:\n\u001b[1;32m     10\u001b[0m         lines \u001b[39m=\u001b[39m file\u001b[39m.\u001b[39mreadlines()\n",
      "\u001b[0;31mFileNotFoundError\u001b[0m: [Errno 2] No such file or directory: 'Darius-13-100m-Fly.txt'"
     ]
    }
   ],
   "source": [
    "import swimclub\n",
    "\n",
    "swimclub.read_swim_data (\"Darius-13-100m-Fly.txt\")"
   ]
  }
 ],
 "metadata": {
  "kernelspec": {
   "display_name": "Python 3",
   "language": "python",
   "name": "python3"
  },
  "language_info": {
   "codemirror_mode": {
    "name": "ipython",
    "version": 3
   },
   "file_extension": ".py",
   "mimetype": "text/x-python",
   "name": "python",
   "nbconvert_exporter": "python",
   "pygments_lexer": "ipython3",
   "version": "3.11.4"
  },
  "orig_nbformat": 4
 },
 "nbformat": 4,
 "nbformat_minor": 2
}
