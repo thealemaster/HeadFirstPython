{
 "cells": [
  {
   "cell_type": "code",
   "execution_count": 27,
   "metadata": {},
   "outputs": [
    {
     "name": "stdout",
     "output_type": "stream",
     "text": [
      "Abi\n",
      "10\n",
      "50m\n",
      "Back\n",
      "Abi\n",
      "10\n",
      "50m\n",
      "Back\n"
     ]
    }
   ],
   "source": [
    "def print_file_attributes (swimmer, age, distance, stroke):\n",
    "    print (swimmer)\n",
    "    print (age)\n",
    "    print (distance)\n",
    "    print (stroke)\n",
    "    return\n",
    "\n",
    "fn = \"Darius-13-100m-Fly.txt\"\n",
    "\n",
    "swimmer, age, distance, stroke = fn.removesuffix(\".txt\").split (\"-\")\n",
    "\n",
    "print_file_attributes (swimmer, age, distance, stroke)\n",
    "\n",
    "fn = \"Abi-10-50m-Back.txt\"\n",
    "\n",
    "swimmer, age, distance, stroke = fn.removesuffix(\".txt\").split(\"-\")\n",
    "\n",
    "print_file_attributes (swimmer, age, distance, stroke)\n"
   ]
  }
 ],
 "metadata": {
  "kernelspec": {
   "display_name": "Python 3",
   "language": "python",
   "name": "python3"
  },
  "language_info": {
   "codemirror_mode": {
    "name": "ipython",
    "version": 3
   },
   "file_extension": ".py",
   "mimetype": "text/x-python",
   "name": "python",
   "nbconvert_exporter": "python",
   "pygments_lexer": "ipython3",
   "version": "3.9.6"
  },
  "orig_nbformat": 4
 },
 "nbformat": 4,
 "nbformat_minor": 2
}
