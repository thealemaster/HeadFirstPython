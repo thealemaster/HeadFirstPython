{
 "cells": [
  {
   "cell_type": "code",
   "execution_count": 3,
   "metadata": {},
   "outputs": [
    {
     "name": "stdout",
     "output_type": "stream",
     "text": [
      "Darius 13 100m Fly ['1:27.95', '1:21.07', '1:30.96', '1:23.22', '1:27.95', '1:28.30'] 1:26.58\n"
     ]
    }
   ],
   "source": [
    "import statistics\n",
    "\n",
    "FN = \"Darius-13-100m-Fly.txt\"\n",
    "FOLDER = \"swimdata/\"\n",
    "\n",
    "swimmer, age, distance, stroke = FN.removesuffix(\".txt\").split (\"-\")\n",
    "\n",
    "with open (FOLDER+FN) as file:\n",
    "    lines = file.readlines()\n",
    "    times = lines[0].strip().split (\",\")\n",
    "\n",
    "converts = []\n",
    "\n",
    "for t in times:\n",
    "    # Extract the component parts: start weith the minutes value\n",
    "    minutes, rest = t.split (\":\")\n",
    "\n",
    "    # Extract the rest of the items\n",
    "    seconds, hundreths = rest.split (\".\")\n",
    "\n",
    "    # Convert the strings\n",
    "    converts.append((int(minutes) * 60 * 100) + (int(seconds) * 100) + int (hundreths))\n",
    "\n",
    "average = statistics.mean(converts)\n",
    "\n",
    "mins_secs, hundreths = str(round(average / 100, 2)).split(\".\")\n",
    "\n",
    "mins_secs = int(mins_secs)\n",
    "\n",
    "minutes = mins_secs // 60\n",
    "\n",
    "seconds = mins_secs - minutes*60\n",
    "\n",
    "converted_average = str(minutes) + \":\" + str(seconds) + \".\" + hundreths\n",
    "\n",
    "print(swimmer, age, distance, stroke, times, converted_average)\n"
   ]
  }
 ],
 "metadata": {
  "kernelspec": {
   "display_name": "Python 3",
   "language": "python",
   "name": "python3"
  },
  "language_info": {
   "codemirror_mode": {
    "name": "ipython",
    "version": 3
   },
   "file_extension": ".py",
   "mimetype": "text/x-python",
   "name": "python",
   "nbconvert_exporter": "python",
   "pygments_lexer": "ipython3",
   "version": "3.9.6"
  },
  "orig_nbformat": 4
 },
 "nbformat": 4,
 "nbformat_minor": 2
}
