{
 "cells": [
  {
   "cell_type": "code",
   "execution_count": 41,
   "metadata": {},
   "outputs": [
    {
     "name": "stdout",
     "output_type": "stream",
     "text": [
      "52\n",
      "9 of Spades\n",
      "Draw! Draw! Draw!\n",
      "King of Spades\n",
      "Draw! Draw! Draw!\n",
      "10 of Clubs\n",
      "Draw! Draw! Draw!\n",
      "2 of Diamonds\n",
      "Draw another card. That one's taken\n",
      "Jack of Hearts\n",
      "Draw another card. That one's taken\n",
      "47\n"
     ]
    }
   ],
   "source": [
    "suits = [\"Clubs\", \"Spades\", \"Hearts\", \"Diamonds\"]\n",
    "faces = [\"Jack\", \"Queen\", \"King\", \"Ace\"]\n",
    "numbered = [2, 3, 4, 5, 6, 7, 8, 9, 10]\n",
    "\n",
    "import random\n",
    "\n",
    "def draw ():\n",
    "    card = random.choice (list(deck))\n",
    "    deck.remove (card)\n",
    "    return card \n",
    "\n",
    "deck = set ()\n",
    "for suit in suits:\n",
    "    for card in faces + numbered:\n",
    "        deck.add (f\"{card} of {suit}\")\n",
    "\n",
    "print (len(deck))\n",
    "\n",
    "for _ in range (5):\n",
    "    print (draw())\n",
    "    if '2 of Diamonds' not in deck:\n",
    "        print (\"Draw another card. That one's taken\")\n",
    "    else:\n",
    "        print (\"Draw! Draw! Draw!\")\n",
    "\n",
    "print (len(deck))\n"
   ]
  },
  {
   "cell_type": "code",
   "execution_count": null,
   "metadata": {},
   "outputs": [],
   "source": []
  }
 ],
 "metadata": {
  "kernelspec": {
   "display_name": "Python 3",
   "language": "python",
   "name": "python3"
  },
  "language_info": {
   "codemirror_mode": {
    "name": "ipython",
    "version": 3
   },
   "file_extension": ".py",
   "mimetype": "text/x-python",
   "name": "python",
   "nbconvert_exporter": "python",
   "pygments_lexer": "ipython3",
   "version": "3.9.6"
  },
  "orig_nbformat": 4
 },
 "nbformat": 4,
 "nbformat_minor": 2
}
